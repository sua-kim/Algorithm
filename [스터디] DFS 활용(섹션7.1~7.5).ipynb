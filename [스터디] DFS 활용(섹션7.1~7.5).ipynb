{
 "cells": [
  {
   "cell_type": "markdown",
   "metadata": {},
   "source": [
    "## 깊이/넓이 우선 탐색(DFS, BFS) 활용"
   ]
  },
  {
   "cell_type": "markdown",
   "metadata": {},
   "source": [
    "### 1. 최대 점수 구하기"
   ]
  },
  {
   "cell_type": "code",
   "execution_count": 2,
   "metadata": {},
   "outputs": [
    {
     "name": "stdout",
     "output_type": "stream",
     "text": [
      "5 20\n",
      "10 5\n",
      "25 12\n",
      "15 8\n",
      "6 3\n",
      "7 4\n",
      "41\n"
     ]
    }
   ],
   "source": [
    "def DFS(L, sum, time):\n",
    "    global res\n",
    "    if time > m:\n",
    "        return\n",
    "    if L == n:\n",
    "        if sum > res:\n",
    "            res = sum\n",
    "    else:\n",
    "        DFS(L+1, sum+pv[L], time+pt[L])\n",
    "        DFS(L+1, sum, time)\n",
    "\n",
    "if __name__ == \"__main__\":\n",
    "    n, m = map(int, input().split())\n",
    "    pv = list()\n",
    "    pt = list()\n",
    "    for i in range(n):\n",
    "        a, b = map(int, input().split())\n",
    "        pv.append(a)\n",
    "        pt.append(b)\n",
    "    res = -214700000\n",
    "    DFS(0, 0, 0)\n",
    "    print(res)"
   ]
  },
  {
   "cell_type": "markdown",
   "metadata": {},
   "source": [
    "### 2. 휴가"
   ]
  },
  {
   "cell_type": "code",
   "execution_count": 6,
   "metadata": {},
   "outputs": [
    {
     "name": "stdout",
     "output_type": "stream",
     "text": [
      "7\n",
      "4 20\n",
      "2 10\n",
      "3 15\n",
      "3 20\n",
      "2 30\n",
      "2 20\n",
      "1 10\n",
      "60\n"
     ]
    }
   ],
   "source": [
    "def DFS(L, sum):\n",
    "    global res\n",
    "    if L == n+1:\n",
    "        if sum>res:\n",
    "            res = sum\n",
    "    else:\n",
    "        if L + T[L] <= n+1:\n",
    "            DFS(L+T[L], sum+P[L])\n",
    "        DFS(L+1, sum)\n",
    "\n",
    "if __name__ == \"__main__\":\n",
    "    n = int(input())\n",
    "    T = list()\n",
    "    P = list()\n",
    "    for i in range(n):\n",
    "        a, b = map(int, input().split())\n",
    "        T.append(a)\n",
    "        P.append(b)\n",
    "    res = -214700000\n",
    "    T.insert(0, 0)\n",
    "    P.insert(0, 0)\n",
    "    DFS(1, 0)\n",
    "    print(res)"
   ]
  },
  {
   "cell_type": "markdown",
   "metadata": {},
   "source": [
    "### 3. 양팔 저울"
   ]
  },
  {
   "cell_type": "code",
   "execution_count": 7,
   "metadata": {},
   "outputs": [
    {
     "name": "stdout",
     "output_type": "stream",
     "text": [
      "3\n",
      "1 5 7\n",
      "2\n"
     ]
    }
   ],
   "source": [
    "def DFS(L, sum):\n",
    "    global res\n",
    "    if L == n:\n",
    "        if 0<sum<=s:\n",
    "            res.add(sum)\n",
    "    else:\n",
    "        DFS(L+1, sum+G[L])\n",
    "        DFS(L+1, sum-G[L])\n",
    "        DFS(L+1, sum)\n",
    "\n",
    "if __name__==\"__main__\":\n",
    "    n = int(input())\n",
    "    G = list(map(int, input().split()))\n",
    "    s = sum(G)\n",
    "    res = set()\n",
    "    DFS(0, 0)\n",
    "    print(s - len(res))"
   ]
  },
  {
   "cell_type": "markdown",
   "metadata": {},
   "source": [
    "### 4. 동전 바꿔주기"
   ]
  },
  {
   "cell_type": "code",
   "execution_count": 8,
   "metadata": {},
   "outputs": [
    {
     "name": "stdout",
     "output_type": "stream",
     "text": [
      "20\n",
      "3\n",
      "5 3\n",
      "10 2\n",
      "1 5\n",
      "4\n"
     ]
    }
   ],
   "source": [
    "def DFS(L, sum):\n",
    "    global cnt\n",
    "    if sum > T:\n",
    "        return\n",
    "    if L == k:\n",
    "        if sum == T:\n",
    "            cnt += 1\n",
    "    else:\n",
    "        for i in range(cn[L]+1):\n",
    "            DFS(L+1, sum+(cv[L]*i))\n",
    "\n",
    "if __name__ == \"__main__\":\n",
    "    T = int(input())\n",
    "    k = int(input())\n",
    "    cv = list()\n",
    "    cn = list()\n",
    "    for i in range(k):\n",
    "        a, b = map(int, input().split())\n",
    "        cv.append(a)\n",
    "        cn.append(b)\n",
    "    cnt = 0\n",
    "    DFS(0, 0)\n",
    "    print(cnt)"
   ]
  },
  {
   "cell_type": "markdown",
   "metadata": {},
   "source": [
    "### 5. 동전 분배하기"
   ]
  },
  {
   "cell_type": "code",
   "execution_count": 9,
   "metadata": {},
   "outputs": [
    {
     "name": "stdout",
     "output_type": "stream",
     "text": [
      "7\n",
      "8\n",
      "9\n",
      "11\n",
      "12\n",
      "23\n",
      "15\n",
      "17\n",
      "5\n"
     ]
    }
   ],
   "source": [
    "def DFS(L):\n",
    "    global res\n",
    "    if L == n:\n",
    "        cha = max(money) - min(money)\n",
    "        if cha < res:\n",
    "            tmp = set()\n",
    "            for x in money:\n",
    "                tmp.add(x)\n",
    "            if len(tmp) == 3:\n",
    "                res = cha\n",
    "    else:\n",
    "        for i in range(3):\n",
    "            money[i] += coin[L]\n",
    "            DFS(L+1)\n",
    "            money[i] -= coin[L]\n",
    "\n",
    "if __name__ == \"__main__\":\n",
    "    n = int(input())\n",
    "    coin = []\n",
    "    money = [0]*3\n",
    "    res = 214700000\n",
    "    for _ in range(n):\n",
    "        coin.append(int(input()))\n",
    "    DFS(0)\n",
    "    print(res)"
   ]
  }
 ],
 "metadata": {
  "kernelspec": {
   "display_name": "Python 3",
   "language": "python",
   "name": "python3"
  },
  "language_info": {
   "codemirror_mode": {
    "name": "ipython",
    "version": 3
   },
   "file_extension": ".py",
   "mimetype": "text/x-python",
   "name": "python",
   "nbconvert_exporter": "python",
   "pygments_lexer": "ipython3",
   "version": "3.7.9"
  }
 },
 "nbformat": 4,
 "nbformat_minor": 4
}
