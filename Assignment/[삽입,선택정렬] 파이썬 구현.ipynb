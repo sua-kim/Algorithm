{
  "nbformat": 4,
  "nbformat_minor": 0,
  "metadata": {
    "colab": {
      "name": "휴먼기계바이오공학부_김수아_1870021_실습5.ipynb",
      "provenance": []
    },
    "kernelspec": {
      "name": "python3",
      "display_name": "Python 3"
    }
  },
  "cells": [
    {
      "cell_type": "code",
      "metadata": {
        "id": "3KzSaZxhfdbF",
        "outputId": "6001f54e-26c7-4324-c4f7-242af00baffb",
        "colab": {
          "base_uri": "https://localhost:8080/"
        }
      },
      "source": [
        "print(\"휴먼기계바이오공학부 김수아 1870021\")"
      ],
      "execution_count": 1,
      "outputs": [
        {
          "output_type": "stream",
          "text": [
            "휴먼기계바이오공학부 김수아 1870021\n"
          ],
          "name": "stdout"
        }
      ]
    },
    {
      "cell_type": "markdown",
      "metadata": {
        "id": "tUNbctnOfvoH"
      },
      "source": [
        "### 실습 5\n",
        "1.  배열을 입력 받아서 두 원소마다 하나 걸러 하나를 뽑아 새 배열을 생성하기 1\n",
        "2.  배열을 입력 받아서 두 원소마다 하나 걸러 하나를 뽑아 새 배열을 생성하기 2\n",
        "3.  삽입 정렬 구현 \n",
        "4.  두 배열의 교집합을 구하는 프로그램\n",
        "5.  선택 정렬 구현 2\n"
      ]
    },
    {
      "cell_type": "markdown",
      "metadata": {
        "id": "Ea88HTSYgGiG"
      },
      "source": [
        "1.  배열을 입력 받아서 두 원소마다 하나 걸러 하나를 뽑아 새 배열을 생성하기 1\n",
        "\n"
      ]
    },
    {
      "cell_type": "code",
      "metadata": {
        "id": "2uOgBSQWgV7G",
        "outputId": "21c864da-c4d4-4fc6-cff2-815ba40965b7",
        "colab": {
          "base_uri": "https://localhost:8080/"
        }
      },
      "source": [
        "def every_other(array):\n",
        "  new_array = []\n",
        "  for element in array:   # lookup 부분\n",
        "    # 원소의 인덱스가 짝수인 경우에만 새 배열에 원소 추가\n",
        "    if (array.index(element)%2 == 0):\n",
        "      new_array.append(element)\n",
        "  return new_array\n",
        "\n",
        "array = [1, 2, 3, 4, 5, 6, 7, 8, 9, 10]\n",
        "even_array = every_other(array)\n",
        "print(even_array)"
      ],
      "execution_count": 3,
      "outputs": [
        {
          "output_type": "stream",
          "text": [
            "[1, 3, 5, 7, 9]\n"
          ],
          "name": "stdout"
        }
      ]
    },
    {
      "cell_type": "markdown",
      "metadata": {
        "id": "oR80NUPagOnI"
      },
      "source": [
        "2.  배열을 입력 받아서 두 원소마다 하나 걸러 하나를 뽑아 새 배열을 생성하기 2\n",
        "  -   룩업 횟수 줄이기"
      ]
    },
    {
      "cell_type": "code",
      "metadata": {
        "id": "npqtsZNrhCUd",
        "outputId": "2d1ff2f9-c547-4a35-dcf4-05f336678cd2",
        "colab": {
          "base_uri": "https://localhost:8080/"
        }
      },
      "source": [
        "def every_other(array):\n",
        "  new_array = []\n",
        "  index = 0\n",
        "  # 짝수 인덱스만 룩업\n",
        "  while index < len(array):\n",
        "    new_array.append(array[index])\n",
        "    index = index + 2\n",
        "  return new_array\n",
        "\n",
        "array = [1, 2, 3, 4, 5, 6, 7, 8, 9, 10]\n",
        "even_array = every_other(array)\n",
        "print(even_array)"
      ],
      "execution_count": 4,
      "outputs": [
        {
          "output_type": "stream",
          "text": [
            "[1, 3, 5, 7, 9]\n"
          ],
          "name": "stdout"
        }
      ]
    },
    {
      "cell_type": "markdown",
      "metadata": {
        "id": "LlEGqjjIgOuU"
      },
      "source": [
        "3.  삽입 정렬 구현 "
      ]
    },
    {
      "cell_type": "code",
      "metadata": {
        "id": "oSp3pN8whdaU",
        "outputId": "d22eff11-d828-4b95-931f-83e68a26a342",
        "colab": {
          "base_uri": "https://localhost:8080/"
        }
      },
      "source": [
        "array = [5, 3, 6, 2, 10]\n",
        "\n",
        "def insertion_sort(array):\n",
        "  for index in range(1, len(array)):\n",
        "    # index: 각 패스스루의 시작 위치\n",
        "    # position: temp_value를 저장할 위치, 비교를 통해 삽입할 위치까지 이동\n",
        "    position = index\n",
        "    # temp_vlaue: 각 패스스루에서 위치를 찾아가는 원소의 값을 임시로 저장\n",
        "    temp_value = array[index]\n",
        "    # 배열의 끝을 만나면 정지 or position - 1 위치의 값이 temp_value보다 작으면 정지\n",
        "    while position > 0 and array[position-1] > temp_value:\n",
        "      # temp_value보다 큰 값을 뒤로 이동하기\n",
        "      array[position] = array[position-1]\n",
        "      position = position - 1\n",
        "      # 정렬되는 정확한 위치에 temp_value값 저장\n",
        "      array[position] = temp_value\n",
        "  return array\n",
        "\n",
        "print(insertion_sort(array))"
      ],
      "execution_count": 6,
      "outputs": [
        {
          "output_type": "stream",
          "text": [
            "[2, 3, 5, 6, 10]\n"
          ],
          "name": "stdout"
        }
      ]
    },
    {
      "cell_type": "markdown",
      "metadata": {
        "id": "s93jpcyOgO97"
      },
      "source": [
        "4.  두 배열의 교집합을 구하는 프로그램"
      ]
    },
    {
      "cell_type": "code",
      "metadata": {
        "id": "bOk-tUN7AMua",
        "outputId": "3c6b680c-62e6-4fdd-b98e-1f473bc7dcfa",
        "colab": {
          "base_uri": "https://localhost:8080/"
        }
      },
      "source": [
        "array1 = [1, 2, 3, 4, 5]\n",
        "array2 = [1, 3, 5]\n",
        "def insertion(first_array, second_array):\n",
        "  result = []\n",
        "  # 첫 번째 배열의 원소의 위치 이동\n",
        "  for i in range(len(first_array)):\n",
        "    # 두 번째 배열의 원소의 위치 이동\n",
        "    for j in range(len(second_array)):\n",
        "      if first_array[i] == second_array[j]:\n",
        "        result.append(first_array[i])\n",
        "  return result\n",
        "\n",
        "print(insertion(array1, array2))"
      ],
      "execution_count": 7,
      "outputs": [
        {
          "output_type": "stream",
          "text": [
            "[1, 3, 5]\n"
          ],
          "name": "stdout"
        }
      ]
    },
    {
      "cell_type": "markdown",
      "metadata": {
        "id": "fJrZJ_0OgPFv"
      },
      "source": [
        "5.  선택 정렬 구현 2"
      ]
    },
    {
      "cell_type": "code",
      "metadata": {
        "id": "pEtgKFn3fvEZ",
        "outputId": "5cd2d3c6-f5d9-4b14-f526-56957cb1a217",
        "colab": {
          "base_uri": "https://localhost:8080/"
        }
      },
      "source": [
        "array = [5, 3, 6, 2, 10]\n",
        "\n",
        "# 배열에서 가장 작은 원소의 인덱스를 찾는 함수\n",
        "def findSmallest(arr):\n",
        "  # 가장 작은 정수를 저장\n",
        "  smallest = arr[0]\n",
        "  # 가장 작은 정수의 인덱스를 저장\n",
        "  smallest_index = 0\n",
        "  for i in range(1, len(arr)):\n",
        "    if arr[i] < smallest:\n",
        "      smallest = arr[i]\n",
        "      smallest_index = i\n",
        "  return smallest_index\n",
        "\n",
        "# findSmallest 함수를 사용해서 배열을 선택 정렬하는 함수\n",
        "def selectionSort2(arr):\n",
        "  newArr = []\n",
        "  for i in range(len(arr)):\n",
        "    # 배열에서 가장 작은 정수를 찾아서 새로운 배열에 추가\n",
        "    smallest = findSmallest(arr)\n",
        "    newArr.append(arr.pop(smallest))\n",
        "  return newArr\n",
        "\n",
        "print(selectionSort2(array))"
      ],
      "execution_count": 8,
      "outputs": [
        {
          "output_type": "stream",
          "text": [
            "[2, 3, 5, 6, 10]\n"
          ],
          "name": "stdout"
        }
      ]
    }
  ]
}