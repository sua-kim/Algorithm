{
  "nbformat": 4,
  "nbformat_minor": 0,
  "metadata": {
    "colab": {
      "name": "휴먼기계바이오공학부_김수아_1870021_실습6.ipynb",
      "provenance": []
    },
    "kernelspec": {
      "name": "python3",
      "display_name": "Python 3"
    }
  },
  "cells": [
    {
      "cell_type": "code",
      "metadata": {
        "id": "Hf7zpDWVhxbS",
        "outputId": "074ce457-d9a3-4058-a358-aceca5c83788",
        "colab": {
          "base_uri": "https://localhost:8080/",
          "height": 34
        }
      },
      "source": [
        "print(\"휴먼기계바이오공학부 1870021 김수아\")"
      ],
      "execution_count": 1,
      "outputs": [
        {
          "output_type": "stream",
          "text": [
            "휴먼기계바이오공학부 1870021 김수아\n"
          ],
          "name": "stdout"
        }
      ]
    },
    {
      "cell_type": "markdown",
      "metadata": {
        "id": "gyDVn2DLh1_G"
      },
      "source": [
        "## 과제 6\n",
        "\n",
        "1. 파이썬 딕셔너리 복습 \n",
        "\n",
        "2. 전자 투표 기계 만들기: 투표자 후보자 목록 중에서 하나를 고르거나 다른 후보자를 작성 가능\n",
        "    - 배열 사용: 삽입 구현\n",
        "\n",
        "3. 전자 투표 기계 만들기\n",
        "    - 배열 사용: 투표 수 세기 구현\n",
        "\n",
        "4. 전자 투표 기계 만들기\n",
        "   - 해시 테이블 사용: 삽입 구현\n",
        "   - 해시 테이블 사용: 투표 수 세기 구현\n",
        "\n",
        "5. 해시 테이블 구현\n",
        "   - 선형 검색법"
      ]
    },
    {
      "cell_type": "markdown",
      "metadata": {
        "id": "_6h2Cz5CiDMG"
      },
      "source": [
        "#### 1. 파이썬 딕셔너리 복습 "
      ]
    },
    {
      "cell_type": "code",
      "metadata": {
        "id": "n1QzJdwDieVt",
        "outputId": "59329d21-fc4a-4fca-bda4-be4313c62c1f",
        "colab": {
          "base_uri": "https://localhost:8080/",
          "height": 158
        }
      },
      "source": [
        "# 딕셔너리 창 추가하기\n",
        "a = {}\n",
        "a = {1: 'a'}\n",
        "a[2] = 'b'\n",
        "print(a)\n",
        "\n",
        "a['name'] = 'pey'\n",
        "print(a)\n",
        "\n",
        "# 딕셔너리 요소 삭제하기\n",
        "del a[1]\n",
        "print(a)\n",
        "\n",
        "# 딕셔너리에서 key 사용해 value 얻기\n",
        "grade = {'pey': 10, 'juliet': 99}\n",
        "print(grade['pey'])\n",
        "\n",
        "print(grade['juliet'])\n",
        "\n",
        "# 먼저 딕셔너리에서는 key는 고유한 값이므로 중복되는 key 값을 설정해놓으면 하나를 제외한 나머지 것들이 모두 무시된다.\n",
        "# 다음 예에서 볼 수 있듯이 동일한 key가 2개 존재할 경우 1:'a' 쌍이 무시된다.\n",
        "\n",
        "a = {1: 'a', 1: 'b'}\n",
        "print(a)\n",
        "\n",
        "test = {}\n",
        "print(test)\n",
        "print(type(test))"
      ],
      "execution_count": 2,
      "outputs": [
        {
          "output_type": "stream",
          "text": [
            "{1: 'a', 2: 'b'}\n",
            "{1: 'a', 2: 'b', 'name': 'pey'}\n",
            "{2: 'b', 'name': 'pey'}\n",
            "10\n",
            "99\n",
            "{1: 'b'}\n",
            "{}\n",
            "<class 'dict'>\n"
          ],
          "name": "stdout"
        }
      ]
    },
    {
      "cell_type": "markdown",
      "metadata": {
        "id": "vAJnGn9niHx6"
      },
      "source": [
        "#### 2. 전자 투표 기계 만들기: 투표자 후보자 목록 중에서 하나를 고르거나 다른 후보자를 작성 가능\n",
        "   - 배열 사용: 삽입 구현"
      ]
    },
    {
      "cell_type": "code",
      "metadata": {
        "id": "5ie19II_if14",
        "outputId": "f9a8ceac-b60a-44e8-febd-dbd9cd58adf4",
        "colab": {
          "base_uri": "https://localhost:8080/",
          "height": 105
        }
      },
      "source": [
        "votes = []\n",
        "\n",
        "def addVote(candidate):\n",
        "  votes.append(candidate)\n",
        "\n",
        "addVote(\"Thomas Jefferson\")\n",
        "addVote(\"John Adams\")\n",
        "addVote(\"John Adams\")\n",
        "addVote(\"Thomas Jefferson\")\n",
        "addVote(\"John Adams\")\n",
        "\n",
        "votes"
      ],
      "execution_count": 3,
      "outputs": [
        {
          "output_type": "execute_result",
          "data": {
            "text/plain": [
              "['Thomas Jefferson',\n",
              " 'John Adams',\n",
              " 'John Adams',\n",
              " 'Thomas Jefferson',\n",
              " 'John Adams']"
            ]
          },
          "metadata": {
            "tags": []
          },
          "execution_count": 3
        }
      ]
    },
    {
      "cell_type": "markdown",
      "metadata": {
        "id": "Xu3FDTSAiH8U"
      },
      "source": [
        "#### 3. 전자 투표 기계 만들기\n",
        "   - 배열 사용: 투표 수 세기 구현"
      ]
    },
    {
      "cell_type": "code",
      "metadata": {
        "id": "O2X4roLWigQv",
        "outputId": "4caaa3ba-56d4-44d6-f23b-097e959b2d0c",
        "colab": {
          "base_uri": "https://localhost:8080/",
          "height": 34
        }
      },
      "source": [
        "def countVotes(votes):\n",
        "  # tally = {\"Thomas Jefferson\": 0}\n",
        "  tally = {}\n",
        "  for i in range(len(votes)):\n",
        "    if (tally.get(votes[i])!= None):\n",
        "      # keyError exception을 피하기 위해서 get 함수 사용\n",
        "      # keyError가 발생하는 이유는 dictionary 안에 해당하는 key가 없음\n",
        "      # 형식: dic.get(key[.default])\n",
        "      # 디폴트 값이 제공되지 않으면 None을 반환\n",
        "      tally[votes[i]] += 1\n",
        "    else:\n",
        "      tally[votes[i]] = 1\n",
        "  \n",
        "  return tally\n",
        "\n",
        "countVotes(votes)"
      ],
      "execution_count": 4,
      "outputs": [
        {
          "output_type": "execute_result",
          "data": {
            "text/plain": [
              "{'John Adams': 3, 'Thomas Jefferson': 2}"
            ]
          },
          "metadata": {
            "tags": []
          },
          "execution_count": 4
        }
      ]
    },
    {
      "cell_type": "markdown",
      "metadata": {
        "id": "urJpall-iIMl"
      },
      "source": [
        "#### 4. 전자 투표 기계 만들기\n",
        "   - 해시 테이블 사용: 삽입 구현\n"
      ]
    },
    {
      "cell_type": "code",
      "metadata": {
        "id": "lz9K3Ywvigr1"
      },
      "source": [
        "votes = {}\n",
        "\n",
        "def addVote(candidate):\n",
        "  if (votes.get(candidate) != None):\n",
        "    votes[candidate] += 1\n",
        "  else:\n",
        "    votes[candidate] = 1\n",
        "\n",
        "addVote(\"Thomas Jefferson\")\n",
        "addVote(\"John Adams\")\n",
        "addVote(\"John Adams\")\n",
        "addVote(\"Thomas Jefferson\")\n",
        "addVote(\"John Adams\")\n"
      ],
      "execution_count": 5,
      "outputs": []
    },
    {
      "cell_type": "markdown",
      "metadata": {
        "id": "aq-DVwJnm1Q3"
      },
      "source": [
        "  - 해시 테이블 사용: 투표 수 세기 구현"
      ]
    },
    {
      "cell_type": "code",
      "metadata": {
        "id": "MNuAvah4munv",
        "outputId": "f976d554-80b4-42c9-91b7-696d886718b1",
        "colab": {
          "base_uri": "https://localhost:8080/",
          "height": 34
        }
      },
      "source": [
        "def countVote():\n",
        "  print(votes)\n",
        "\n",
        "countVote()"
      ],
      "execution_count": 6,
      "outputs": [
        {
          "output_type": "stream",
          "text": [
            "{'Thomas Jefferson': 2, 'John Adams': 3}\n"
          ],
          "name": "stdout"
        }
      ]
    },
    {
      "cell_type": "markdown",
      "metadata": {
        "id": "abb8lEN-iIyG"
      },
      "source": [
        "5. 해시 테이블 구현\n",
        "   - 충돌 해결: 선형 검색법"
      ]
    },
    {
      "cell_type": "code",
      "metadata": {
        "id": "FZliyNbxh1et",
        "outputId": "a832f9c5-3c7a-47b5-dd0a-3a6ab4ffd128",
        "colab": {
          "base_uri": "https://localhost:8080/",
          "height": 334
        }
      },
      "source": [
        "h = []\n",
        "numberOfHTable = 10\n",
        "\n",
        "# 해시테이블 초기화\n",
        "for i in range(numberOfHTable):\n",
        "  h.append(-1)\n",
        "\n",
        "def hash(num):\n",
        "  return(num % numberOfHTable)\n",
        "\n",
        "# 읽기 연산\n",
        "def insert(num):\n",
        "  p = hash(num)\n",
        "  for i in range(numberOfHTable):  # i는 충돌횟수 또는 이동횟수\n",
        "    # 빈 셀에 저장\n",
        "    if h[p] == -1 or h[p] == 'd':\n",
        "      h[p] = num\n",
        "      break\n",
        "    else:\n",
        "      # 빈 셀이 아닌 경우 충돌발생\n",
        "      # 선형 검색법: 빈 셀을 찾기 위해 한 칸씩 이동\n",
        "      if p < numberOfHTable - 1:\n",
        "        # 저장 위치 p가 해시 테이블의 크기보다 작을 때까지 증가\n",
        "        p = p + 1\n",
        "      else:\n",
        "        # 저장 위치 p가 해시 테이블의 크기보다 커지면 0으로 셋팅\n",
        "        p = 0\n",
        "\n",
        "def search(num):\n",
        "  p = hash(num)\n",
        "  for i in range(numberOfHTable):\n",
        "    if h[p] == num:   # 찾은 경우\n",
        "      return \"Found \" + str(num) + ' at ' + str(p)\n",
        "    elif h[p] == -1:  # 찾지 못한 경우\n",
        "      break\n",
        "    else:\n",
        "      if p + i < numberOfHTable:\n",
        "        p = p + 1\n",
        "      else:\n",
        "        p = 0\n",
        "  return \"Not Found\"\n",
        "\n",
        "def delete(num):\n",
        "  p = hash(num)\n",
        "  for i in range(numberOfHTable):\n",
        "    if h[p] == num:   # 찾아서 삭제\n",
        "      h[p]= 'd'\n",
        "      break\n",
        "    elif h[p] == -1:  # 데이터가 없어서 삭제 못함\n",
        "      print(\"Not Found\")\n",
        "      break\n",
        "    else:\n",
        "      if p < numberOfHTable - 1:\n",
        "        p = p + 1\n",
        "      else:\n",
        "        p = 0\n",
        "\n",
        "\n",
        "\n",
        "insert(7)\n",
        "print(\"7 삽입 후\")\n",
        "print(h)\n",
        "insert(17)\n",
        "print(\"17 삽입 후\")\n",
        "print(h)\n",
        "insert(27)\n",
        "print(\"27 삽입 후\")\n",
        "print(h)\n",
        "insert(5)\n",
        "print(\"5 삽입 후\")\n",
        "print(h)\n",
        "insert(15)\n",
        "print(\"15 삽입 후\")\n",
        "print(h)\n",
        "insert(25)\n",
        "print(\"25 삽입 후\")\n",
        "print(h)\n",
        "print(\"25 검색\")\n",
        "print(search(25))\n",
        "\n",
        "delete(15)\n",
        "print(\"15 삭제 후\")\n",
        "print(h)\n",
        "print(\"25 검색\")\n",
        "print(search(25))"
      ],
      "execution_count": 8,
      "outputs": [
        {
          "output_type": "stream",
          "text": [
            "7 삽입 후\n",
            "[-1, -1, -1, -1, -1, -1, -1, 7, -1, -1]\n",
            "17 삽입 후\n",
            "[-1, -1, -1, -1, -1, -1, -1, 7, 17, -1]\n",
            "27 삽입 후\n",
            "[-1, -1, -1, -1, -1, -1, -1, 7, 17, 27]\n",
            "5 삽입 후\n",
            "[-1, -1, -1, -1, -1, 5, -1, 7, 17, 27]\n",
            "15 삽입 후\n",
            "[-1, -1, -1, -1, -1, 5, 15, 7, 17, 27]\n",
            "25 삽입 후\n",
            "[25, -1, -1, -1, -1, 5, 15, 7, 17, 27]\n",
            "25 검색\n",
            "Found 25 at 0\n",
            "15 삭제 후\n",
            "[25, -1, -1, -1, -1, 5, 'd', 7, 17, 27]\n",
            "25 검색\n",
            "Found 25 at 0\n"
          ],
          "name": "stdout"
        }
      ]
    },
    {
      "cell_type": "code",
      "metadata": {
        "id": "eiTNoENPo0nw"
      },
      "source": [
        ""
      ],
      "execution_count": 7,
      "outputs": []
    }
  ]
}
