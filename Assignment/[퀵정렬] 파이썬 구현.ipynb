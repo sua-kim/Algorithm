{
  "nbformat": 4,
  "nbformat_minor": 0,
  "metadata": {
    "colab": {
      "name": "휴먼기계바이오공학부_김수아_1870021_실습9.ipynb",
      "provenance": [],
      "collapsed_sections": []
    },
    "kernelspec": {
      "name": "python3",
      "display_name": "Python 3"
    }
  },
  "cells": [
    {
      "cell_type": "code",
      "metadata": {
        "id": "8WD8T5TEnLZH",
        "outputId": "069d96f9-3d0e-44e5-fed1-863366f43d4d",
        "colab": {
          "base_uri": "https://localhost:8080/"
        }
      },
      "source": [
        "print(\"1870021 휴먼기계바이오공학부 김수아\")"
      ],
      "execution_count": 1,
      "outputs": [
        {
          "output_type": "stream",
          "text": [
            "1870021 휴먼기계바이오공학부 김수아\n"
          ],
          "name": "stdout"
        }
      ]
    },
    {
      "cell_type": "markdown",
      "metadata": {
        "id": "11Yw-rNrnUu_"
      },
      "source": [
        "## 과제 9\n",
        "1. partition(분할) 메서드 구현\n",
        "2. quicksort 메서드 구현\n",
        "3. 퀵 셀렉트 메서드 구현"
      ]
    },
    {
      "cell_type": "markdown",
      "metadata": {
        "id": "fpE3ppdWnnEr"
      },
      "source": [
        "#### 1. partition(분할) 메서드 구현"
      ]
    },
    {
      "cell_type": "code",
      "metadata": {
        "id": "5K_q9UFSng4h",
        "outputId": "51281281-d5cf-46d2-e1ec-d8e4b5c309be",
        "colab": {
          "base_uri": "https://localhost:8080/"
        }
      },
      "source": [
        "class SortableArray:\n",
        "  def __init__(self, array):\n",
        "    self.array = array\n",
        "\n",
        "  def partition(self, left_pointer, right_pointer):\n",
        "    # 항상 가장 오른쪽에 있는 값을 피벗으로 선택\n",
        "    pivot_position = right_pointer\n",
        "    pivot = self.array[pivot_position]\n",
        "    print(\"pivot_position\", pivot_position)\n",
        "    print(\"pivot\", pivot)\n",
        "\n",
        "    # 피벗 바로 왼쪽에서 오른쪽 포인터를 시작\n",
        "    right_pointer -= 1\n",
        "    while True:\n",
        "      while self.array[left_pointer] < pivot:\n",
        "        left_pointer += 1\n",
        "      print(\"left_pointer\",left_pointer)\n",
        "      while self.array[right_pointer] > pivot:\n",
        "        right_pointer -= 1\n",
        "      print(\"right_pointer\",right_pointer)\n",
        "\n",
        "      if left_pointer >= right_pointer:\n",
        "        break\n",
        "      else:\n",
        "        self.swap(left_pointer, right_pointer)\n",
        "\n",
        "    # 마지막 단계로 왼쪽 포인터와 피벗을 교환\n",
        "    self.swap(left_pointer, pivot_position)\n",
        "\n",
        "    # 이어지는 예제에서 나올 quicksort 메서드를 위해 왼쪽 포인터를 반환\n",
        "    return left_pointer\n",
        "\n",
        "  def swap(self, pointer_1, pointer_2):\n",
        "    temp_value = self.array[pointer_1]\n",
        "    self.array[pointer_1] = self.array[pointer_2]\n",
        "    self.array[pointer_2] = temp_value\n",
        "    print(self.array)\n",
        "\n",
        "\n",
        "array = [0, 5, 2, 1, 6, 3]\n",
        "sortable_array = SortableArray(array)\n",
        "sortable_array.partition(0, 5)\n",
        "print(\"\\n 한번 분할 한 결과\")\n",
        "print(array)"
      ],
      "execution_count": 7,
      "outputs": [
        {
          "output_type": "stream",
          "text": [
            "pivot_position 5\n",
            "pivot 3\n",
            "left_pointer 1\n",
            "right_pointer 3\n",
            "[0, 1, 2, 5, 6, 3]\n",
            "left_pointer 3\n",
            "right_pointer 2\n",
            "[0, 1, 2, 3, 6, 5]\n",
            "\n",
            " 한번 분할 한 결과\n",
            "[0, 1, 2, 3, 6, 5]\n"
          ],
          "name": "stdout"
        }
      ]
    },
    {
      "cell_type": "markdown",
      "metadata": {
        "id": "CXkqvPhOpzP_"
      },
      "source": [
        "#### 2. quicksort 메서드 구현"
      ]
    },
    {
      "cell_type": "code",
      "metadata": {
        "id": "v0KoHdGOnmxb",
        "outputId": "f41c4914-575a-4982-824d-dc749a9c4641",
        "colab": {
          "base_uri": "https://localhost:8080/"
        }
      },
      "source": [
        "class SortableArray:\n",
        "  def __init__(self, array):\n",
        "    self.array = array\n",
        "  \n",
        "  def partition(self, left_pointer, right_pointer):\n",
        "    # 항상 가장 오른쪽에 있는 값을 피벗으로 선택\n",
        "    pivot_position = right_pointer\n",
        "    pivot = self.array[pivot_position]\n",
        "    # 피벗 바로 왼쪽에서 오른쪽 포인터를 시작\n",
        "    right_pointer -=1\n",
        "\n",
        "    while True:\n",
        "      while self.array[left_pointer] < pivot:\n",
        "        left_pointer += 1\n",
        "\n",
        "      while self.array[right_pointer] > pivot:\n",
        "        right_pointer -= 1\n",
        "      \n",
        "      if left_pointer >= right_pointer:\n",
        "        break\n",
        "      else:\n",
        "        self.swap(left_pointer, right_pointer)\n",
        "\n",
        "    # 마지막 단계로 왼쪽 포인터와 피벗을 교환\n",
        "    self.swap(left_pointer, pivot_position)\n",
        "    #이어지는 예제에서 나올 quicksort 메서드를 위해 왼쪽 포인터를 반환\n",
        "    return left_pointer\n",
        "\n",
        "  def swap(self, pointer_1, pointer_2):\n",
        "    temp_value = self.array[pointer_1]\n",
        "    self.array[pointer_1] = self.array[pointer_2]\n",
        "    self.array[pointer_2] = temp_value\n",
        "\n",
        "  def quicksort(self, left_index, right_index):\n",
        "    # 기저 조건: 하위 배열에 원소가 0개 or 1개일 때\n",
        "    if right_index - left_index <= 0:\n",
        "      return\n",
        "\n",
        "    #배열을 분할하고 피벗의 위치를 가져옴\n",
        "    pivot_position = self.partition(left_index, right_index)\n",
        "\n",
        "    #피벗 왼쪽에 대해 quicksort 메서드를 재귀적으로 호출\n",
        "    self.quicksort(left_index, pivot_position - 1)\n",
        "\n",
        "    #피벗 오른쪽에 대해 quicksort 메서드를 재귀적으로 호출\n",
        "    self.quicksort(pivot_position + 1, right_index)\n",
        "\n",
        "\n",
        "array = [0, 5, 2, 1, 6, 3]\n",
        "sortable_array = SortableArray(array)\n",
        "sortable_array.quicksort(0, len(array)-1)\n",
        "print(sortable_array.array)"
      ],
      "execution_count": 8,
      "outputs": [
        {
          "output_type": "stream",
          "text": [
            "[0, 1, 2, 3, 5, 6]\n"
          ],
          "name": "stdout"
        }
      ]
    },
    {
      "cell_type": "markdown",
      "metadata": {
        "id": "wLujELokqoWd"
      },
      "source": [
        "#### 3. 퀵 셀렉트 메서드 구현"
      ]
    },
    {
      "cell_type": "code",
      "metadata": {
        "id": "Lwt4md2xqtg5",
        "outputId": "d77c9cc7-fccb-43d8-ffc8-f4199b222fe2",
        "colab": {
          "base_uri": "https://localhost:8080/"
        }
      },
      "source": [
        "class SortableArray:\n",
        "  def __init__(self, array):\n",
        "    self.array = array\n",
        "\n",
        "  def quickselect(self, k_1th_lowest_value, left_index, right_index):\n",
        "    # 기저 조건이면, 즉 하위 배열에 셀이 하나면 찾고 있던 값을 찾은 것\n",
        "    if right_index - left_index == 0 :\n",
        "      return self.array[left_index]\n",
        "\n",
        "    # 배열을 분할하고 피벗의 위치를 가져옴\n",
        "    pivot_position = self.partition(left_index, right_index)\n",
        "\n",
        "    if k_1th_lowest_value < pivot_position:\n",
        "      return(self.quickselect(k_1th_lowest_value, left_index, pivot_position - 1))\n",
        "    elif k_1th_lowest_value > pivot_position:\n",
        "      retrun(self.quickselect(k_1th_lowest_value, pivot_position + 1, right_index))\n",
        "    else: \n",
        "      # k_1th_lowest_value == pivot_position\n",
        "      # 분할 후 피벗의 위치가 k+1 번째 작은 값과 같으면 찾고 있던 값을 찾은 것\n",
        "      return self.array[pivot_position]\n",
        "\n",
        "  def partition(self, left_pointer, right_pointer):\n",
        "    # 항상 가장 오른쪽에 있는 값을 피벗으로 선택\n",
        "    pivot_position = right_pointer\n",
        "    pivot = self.array[pivot_position]\n",
        "\n",
        "    # 피벗 바로 왼쪽에서 오른쪽 포인터를 시작\n",
        "    right_pointer -= 1\n",
        "\n",
        "    while True:\n",
        "      while self.array[left_pointer] < pivot:\n",
        "        left_pointer += 1\n",
        "      while self.array[right_pointer] > pivot:\n",
        "        right_pointer -= 1\n",
        "\n",
        "      if left_pointer >= right_pointer:\n",
        "        break\n",
        "      else:\n",
        "        self.swap(left_pointer, right_pointer)\n",
        "\n",
        "    # 마지막 단계로 왼쪽 포인터와 피벗을 교환\n",
        "    self.swap(left_pointer, pivot_position)\n",
        "\n",
        "    # 이어지는 예제에서 나올 quicksort 메서드를 위해 왼쪽 포인터를 반환\n",
        "    return left_pointer\n",
        "\n",
        "  def swap(self, pointer_1, pointer_2):\n",
        "    temp_value = self.array[pointer_1]\n",
        "    self.array[pointer_1] = self.array[pointer_2]\n",
        "    self.array[pointer_2] = temp_value\n",
        "\n",
        "\n",
        "array2 = [0, 50, 20, 10, 60, 30]\n",
        "sortable_array = SortableArray(array2)\n",
        "print(sortable_array.quickselect(2, 0, len(array2)-1))"
      ],
      "execution_count": 22,
      "outputs": [
        {
          "output_type": "stream",
          "text": [
            "20\n"
          ],
          "name": "stdout"
        }
      ]
    }
  ]
}