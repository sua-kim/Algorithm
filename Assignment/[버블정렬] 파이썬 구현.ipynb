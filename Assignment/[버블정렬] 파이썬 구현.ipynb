{
  "nbformat": 4,
  "nbformat_minor": 0,
  "metadata": {
    "colab": {
      "name": "휴먼기계바이오공학부_김수아_1870021_실습4.ipynb",
      "provenance": []
    },
    "kernelspec": {
      "name": "python3",
      "display_name": "Python 3"
    }
  },
  "cells": [
    {
      "cell_type": "code",
      "metadata": {
        "id": "4SetwSsOx1UZ",
        "outputId": "f64c37f7-f0a8-429e-9801-33ec6e58e0c7",
        "colab": {
          "base_uri": "https://localhost:8080/",
          "height": 34
        }
      },
      "source": [
        "print(\"휴먼기계바이오공학부 1870021 김수아\")"
      ],
      "execution_count": 2,
      "outputs": [
        {
          "output_type": "stream",
          "text": [
            "휴먼기계바이오공학부 1870021 김수아\n"
          ],
          "name": "stdout"
        }
      ]
    },
    {
      "cell_type": "markdown",
      "metadata": {
        "id": "___1mDSJqxpY"
      },
      "source": [
        "실습 4\n",
        "\n",
        "  1. 버블 정렬 구현\n",
        "  2. 배열에 중복 값이 있는지 확인하는 프로그램 구현: O(N^2)\n",
        "  3. 배열에 중복 값이 있는지 확인하는 프로그램 구현 : O(N)\n",
        "  4. 선택 정렬 구현 1"
      ]
    },
    {
      "cell_type": "markdown",
      "metadata": {
        "id": "sUrREZW4q9zw"
      },
      "source": [
        "1. 버블 정렬"
      ]
    },
    {
      "cell_type": "code",
      "metadata": {
        "id": "8eOnycnAoevf",
        "outputId": "b92572ce-7084-4661-d914-ce68aec86cb3",
        "colab": {
          "base_uri": "https://localhost:8080/",
          "height": 34
        }
      },
      "source": [
        "def bubble_sort(list):\n",
        "\n",
        "  # 어떤 인덱스까지 아직 정렬이 되지 않았는지 기록\n",
        "  unsorted_until_index = len(list) - 1\n",
        "\n",
        "  # 배열의 정렬 여부를 기록\n",
        "  sorted = False\n",
        "\n",
        "  # 배열이 완전히 정렬됐음을 알 때까지 while 루프 실행\n",
        "  while not sorted:\n",
        "    sorted = True\n",
        "    # for 루프는 배열의 첫 인덱스부터 아직 정렬되지 않은 인덱스까지 수행\n",
        "    for i in range(unsorted_until_index):\n",
        "      # 모든 인접값 쌍을 비교하고 순서가 뒤바뀌어있으면 교환\n",
        "      if list[i] > list[i+1]:\n",
        "        sorted = False\n",
        "        list[i], list[i+1] = list[i+1], list[i]\n",
        "\n",
        "        # unsorted_until_index 값을 1 감소\n",
        "    unsorted_until_index = unsorted_until_index - 1\n",
        "\n",
        "list = [65, 55, 45, 35, 25, 15, 10]\n",
        "bubble_sort(list)\n",
        "print(list)"
      ],
      "execution_count": 3,
      "outputs": [
        {
          "output_type": "stream",
          "text": [
            "[10, 15, 25, 35, 45, 55, 65]\n"
          ],
          "name": "stdout"
        }
      ]
    },
    {
      "cell_type": "markdown",
      "metadata": {
        "id": "Y7-qcp1Ux7Vy"
      },
      "source": [
        "2. 이차 문제 O(N^2) 배열에 중복 값이 있는지 확인하는 프로그램"
      ]
    },
    {
      "cell_type": "code",
      "metadata": {
        "id": "K7iZz892yAgI",
        "outputId": "cab7b92a-cac8-4094-d612-284fba7f3272",
        "colab": {
          "base_uri": "https://localhost:8080/",
          "height": 122
        }
      },
      "source": [
        "array1 = [1, 2, 3, 4, 5, 6]\n",
        "array2 = [1, 2, 3, 4, 5, 3]\n",
        "steps = 0\n",
        "\n",
        "def hasDuplicateValue(array):\n",
        "  global steps\n",
        "  steps = 0\n",
        "\n",
        "  for i in range(len(array)):\n",
        "    for j in range(len(array)):\n",
        "      steps = steps + 1\n",
        "      if (i != j) and array[i] == array[j]:  # i와 j의 값이 같지 않을 때만 비교\n",
        "        return True\n",
        "  \n",
        "  return False\n",
        "\n",
        "print(hasDuplicateValue(array1))\n",
        "print(steps)\n",
        "print(hasDuplicateValue(array2))\n",
        "print(steps)\n",
        "print(hasDuplicateValue([2, 3, 4, 3, 2, 5]))\n",
        "print(steps)"
      ],
      "execution_count": 5,
      "outputs": [
        {
          "output_type": "stream",
          "text": [
            "False\n",
            "36\n",
            "True\n",
            "18\n",
            "True\n",
            "5\n"
          ],
          "name": "stdout"
        }
      ]
    },
    {
      "cell_type": "markdown",
      "metadata": {
        "id": "Fpj_nBFxyvTW"
      },
      "source": [
        "3. 중첩 루프를 사용하지 않고 hasDuplicateValue 함수 구현"
      ]
    },
    {
      "cell_type": "code",
      "metadata": {
        "id": "SoIZBKdtyy1n",
        "outputId": "7693fe7d-e44e-4480-87f4-4c6bf5366c50",
        "colab": {
          "base_uri": "https://localhost:8080/",
          "height": 175
        }
      },
      "source": [
        "array1 = [1, 2, 3, 4, 5, 6]\n",
        "array2 = [1, 2, 3, 4, 5, 3]\n",
        "steps = 0\n",
        "\n",
        "def hasDuplicateValue(array):\n",
        "  global steps\n",
        "  steps = 0\n",
        "  existingNumbers = []            # 인덱스에 해당하는 데이터가 존재하는지 확인하기 위해 사용하는 배열\n",
        "  for i in range(max(array)+1):   # \"undefined\"로 초기화\n",
        "    existingNumbers.append(\"undefined\")\n",
        "  \n",
        "  for i in range(len(array)):\n",
        "    steps = steps + 1\n",
        "    if existingNumbers[array[i]] == \"undefined\":\n",
        "      existingNumbers[array[i]] = 1        # existingNumber 배열에서 인덱스가 array[i]인 위치에 1의 값을 저장\n",
        "                                           # array 배열에서 인덱스가 i에 있는 값을 existingNumber 배열에 표시\n",
        "\n",
        "    else:\n",
        "      print(existingNumbers)\n",
        "      return True\n",
        "  print(existingNumbers)\n",
        "  return False\n",
        "\n",
        "print(hasDuplicateValue(array1))\n",
        "print(steps)\n",
        "print(hasDuplicateValue(array2))\n",
        "print(steps)\n",
        "print(hasDuplicateValue([2, 3, 4, 3, 2, 5]))\n",
        "print(steps)"
      ],
      "execution_count": 8,
      "outputs": [
        {
          "output_type": "stream",
          "text": [
            "['undefined', 1, 1, 1, 1, 1, 1]\n",
            "False\n",
            "6\n",
            "['undefined', 1, 1, 1, 1, 1]\n",
            "True\n",
            "6\n",
            "['undefined', 'undefined', 1, 1, 1, 'undefined']\n",
            "True\n",
            "4\n"
          ],
          "name": "stdout"
        }
      ]
    },
    {
      "cell_type": "markdown",
      "metadata": {
        "id": "G-7X58dc0Qkf"
      },
      "source": [
        "4. 선택 정렬 구현 1"
      ]
    },
    {
      "cell_type": "code",
      "metadata": {
        "id": "1iut559y0TiP",
        "outputId": "fdc3d17b-e5f6-409a-e7b0-5729bbca2a11",
        "colab": {
          "base_uri": "https://localhost:8080/",
          "height": 34
        }
      },
      "source": [
        "array = [5, 3, 6, 2, 10]\n",
        "steps = 0\n",
        "\n",
        "def selectionSort1(array):\n",
        "  for i in range(len(array)):\n",
        "    lowestNumberIndex = i\n",
        "    # 가장 작은 원소의 인덱스 찾기\n",
        "    for j in range(i+1, len(array)):\n",
        "      if array[j] < array[lowestNumberIndex]:\n",
        "        lowestNumberIndex = j\n",
        "    # 가장 작은 원소와 정렬안된 부분의 가장 작은 위치의 원소를 교환\n",
        "    if lowestNumberIndex != i:\n",
        "      temp = array[i]\n",
        "      array[i] = array[lowestNumberIndex]\n",
        "      array[lowestNumberIndex] = temp\n",
        "  return array\n",
        "\n",
        "print(selectionSort1(array))"
      ],
      "execution_count": 10,
      "outputs": [
        {
          "output_type": "stream",
          "text": [
            "[2, 3, 5, 6, 10]\n"
          ],
          "name": "stdout"
        }
      ]
    }
  ]
}