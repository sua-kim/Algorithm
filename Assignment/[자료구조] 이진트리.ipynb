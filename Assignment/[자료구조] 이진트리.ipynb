{
  "nbformat": 4,
  "nbformat_minor": 0,
  "metadata": {
    "colab": {
      "name": "휴먼기계바이오공학부_김수아_1870021_실습11.ipynb",
      "provenance": []
    },
    "kernelspec": {
      "name": "python3",
      "display_name": "Python 3"
    }
  },
  "cells": [
    {
      "cell_type": "code",
      "metadata": {
        "colab": {
          "base_uri": "https://localhost:8080/"
        },
        "id": "eYENvv471NbP",
        "outputId": "84c78158-33f5-4519-d083-c3ab576cde21"
      },
      "source": [
        "print(\"1870021 휴먼기계바이오공학부 김수아\")"
      ],
      "execution_count": 1,
      "outputs": [
        {
          "output_type": "stream",
          "text": [
            "1870021 휴먼기계바이오공학부 김수아\n"
          ],
          "name": "stdout"
        }
      ]
    },
    {
      "cell_type": "markdown",
      "metadata": {
        "id": "XctZ5QUX15Lz"
      },
      "source": [
        "## 이진탐색 트리 구현\r\n",
        " 1. 검색\r\n",
        " 2. 삽입\r\n",
        " 3. 삭제\r\n",
        "\r\n",
        "* TreeNode 클래스, 트리 만들기, 트리 순회는 공유링크의 코드를 사용\r\n",
        " https://colab.research.google.com/drive/1MKhjsjiV5Z4GKMVMwKEPsFhgtuobnQJ?usp=sharing\r\n",
        "\r\n"
      ]
    },
    {
      "cell_type": "markdown",
      "metadata": {
        "id": "FI60tgJB2QMk"
      },
      "source": [
        "#### 파이썬으로 트리 노드를 구현"
      ]
    },
    {
      "cell_type": "code",
      "metadata": {
        "id": "wO96S4UO2PJc"
      },
      "source": [
        "class TreeNode:\r\n",
        "  def __init__(self,val,left=None,right=None):\r\n",
        "    self.value = val\r\n",
        "    self.leftChild = left\r\n",
        "    self.rightChild = right"
      ],
      "execution_count": 4,
      "outputs": []
    },
    {
      "cell_type": "markdown",
      "metadata": {
        "id": "lDR3kSYk2beI"
      },
      "source": [
        "#### 트리 만들기"
      ]
    },
    {
      "cell_type": "code",
      "metadata": {
        "id": "H737PFLI15UY"
      },
      "source": [
        "node = TreeNode(1)\r\n",
        "node2 = TreeNode(10)\r\n",
        "root = TreeNode(5, node, node2)"
      ],
      "execution_count": 5,
      "outputs": []
    },
    {
      "cell_type": "code",
      "metadata": {
        "id": "PrWlcsXb2p_2"
      },
      "source": [
        "node8 = TreeNode(4)\r\n",
        "node9 = TreeNode(11)\r\n",
        "node10 = TreeNode(30)\r\n",
        "node11 = TreeNode(40)\r\n",
        "node12 = TreeNode(52)\r\n",
        "node13 = TreeNode(61)\r\n",
        "node14 = TreeNode(82)\r\n",
        "node15 = TreeNode(95)\r\n",
        "\r\n",
        "node4= TreeNode(10, node8, node9)\r\n",
        "node5 = TreeNode(33, node10, node11)\r\n",
        "node6 = TreeNode(56, node12, node13)\r\n",
        "node7 = TreeNode(89, node14, node15)\r\n",
        "\r\n",
        "node1 = TreeNode(25, node4, node5)\r\n",
        "node2 = TreeNode(75, node6, node7)\r\n",
        "\r\n",
        "root = TreeNode(50, node1, node2)"
      ],
      "execution_count": 6,
      "outputs": []
    },
    {
      "cell_type": "markdown",
      "metadata": {
        "id": "T5dMYGm-29Yq"
      },
      "source": [
        "#### 이진트리 순회"
      ]
    },
    {
      "cell_type": "code",
      "metadata": {
        "colab": {
          "base_uri": "https://localhost:8080/"
        },
        "id": "1DlbSUWR20IT",
        "outputId": "696cf571-de1a-4c7f-a22e-d0dcbe325091"
      },
      "source": [
        "def traverse_and_print(node):\r\n",
        "  if node is None:\r\n",
        "    return\r\n",
        "  traverse_and_print(node.leftChild)\r\n",
        "  print(node.value, end = \" -> \")\r\n",
        "  traverse_and_print(node.rightChild)\r\n",
        "\r\n",
        "traverse_and_print(root)"
      ],
      "execution_count": 7,
      "outputs": [
        {
          "output_type": "stream",
          "text": [
            "4 -> 10 -> 11 -> 25 -> 30 -> 33 -> 40 -> 50 -> 52 -> 56 -> 61 -> 75 -> 82 -> 89 -> 95 -> "
          ],
          "name": "stdout"
        }
      ]
    },
    {
      "cell_type": "markdown",
      "metadata": {
        "id": "qV57i-cM26NQ"
      },
      "source": [
        "#### 1. 검색 함수 구현"
      ]
    },
    {
      "cell_type": "code",
      "metadata": {
        "id": "j8i4QtTy3VNF"
      },
      "source": [
        "def search(value, node):\r\n",
        "  # 기저 조건: 노드가 없거나 잧고 있던 값이면\r\n",
        "  if node is None or node.value == value:\r\n",
        "    return node\r\n",
        "\r\n",
        "  # 찾고 잇는 값이 현재 노드보다 작으면 왼쪽 자식 검색한다\r\n",
        "  elif value < node.value:\r\n",
        "    return search(value, node.leftChild)\r\n",
        "\r\n",
        "  # 찾고 있는 값이 현재 노드보다 크면 오른쪽 자식 검색\r\n",
        "  else: # value > node.value\r\n",
        "    return search(value, node.rightChild)"
      ],
      "execution_count": 8,
      "outputs": []
    },
    {
      "cell_type": "markdown",
      "metadata": {
        "id": "y2-_I8nN3fsv"
      },
      "source": [
        "#### 1-1. 검색 실행"
      ]
    },
    {
      "cell_type": "code",
      "metadata": {
        "colab": {
          "base_uri": "https://localhost:8080/"
        },
        "id": "p7f-PUNy3e3T",
        "outputId": "dac0fdc0-37ad-455a-f492-3f9d79ab8661"
      },
      "source": [
        "print(search(53, root))\r\n",
        "#print(search(61, root))\r\n",
        "print(search(61, root).value)"
      ],
      "execution_count": 9,
      "outputs": [
        {
          "output_type": "stream",
          "text": [
            "None\n",
            "61\n"
          ],
          "name": "stdout"
        }
      ]
    },
    {
      "cell_type": "markdown",
      "metadata": {
        "id": "uZ_spyTZ3m2P"
      },
      "source": [
        "#### 2. 삽입 함수 구현"
      ]
    },
    {
      "cell_type": "code",
      "metadata": {
        "id": "XaoQQoOj3lIv"
      },
      "source": [
        "def insert(value, node):\r\n",
        "  if value < node.value:\r\n",
        "\r\n",
        "  # 왼쪽 자식이 없으면 왼쪽 자식으로서 값을 삽입\r\n",
        "    if node.leftChild is None:\r\n",
        "      node.leftChild = TreeNode(value)\r\n",
        "    else:\r\n",
        "      insert(value, node.leftChild)\r\n",
        "\r\n",
        "  elif value > node.value:\r\n",
        "\r\n",
        "    # 오른쪽 자식이 없으면 오른쪽 자식으로서 값을 삽입\r\n",
        "    if node.rightChild is None:\r\n",
        "      node.rightChild = TreeNode(value)\r\n",
        "    else:\r\n",
        "      insert(value, node.rightChild)"
      ],
      "execution_count": 10,
      "outputs": []
    },
    {
      "cell_type": "markdown",
      "metadata": {
        "id": "gLgtqvfV313h"
      },
      "source": [
        "#### 2-1. 삽입 함수 실행"
      ]
    },
    {
      "cell_type": "code",
      "metadata": {
        "colab": {
          "base_uri": "https://localhost:8080/"
        },
        "id": "VV_1Pseh33lK",
        "outputId": "576263dc-1b87-4d3f-c81f-edfbec23cbb9"
      },
      "source": [
        "root = None\r\n",
        "root = TreeNode(50, None, None)\r\n",
        "insert(5,root )\r\n",
        "insert(10, root)\r\n",
        "print(search(10,root).value)\r\n",
        "print(\"root value is \", root.value)\r\n",
        "if root.leftChild is not None:\r\n",
        "  print(\"root.leftChild is\", root.leftChild.value)\r\n",
        "else:\r\n",
        "  print(\"root.leftChild is None\")\r\n",
        "if root.rightChild is not None:\r\n",
        "  print(\"root.rightChild is\",root.rightChild.value)\r\n",
        "else:\r\n",
        "  print(\"root.rightChild is None\")"
      ],
      "execution_count": 11,
      "outputs": [
        {
          "output_type": "stream",
          "text": [
            "10\n",
            "root value is  50\n",
            "root.leftChild is 5\n",
            "root.rightChild is None\n"
          ],
          "name": "stdout"
        }
      ]
    },
    {
      "cell_type": "markdown",
      "metadata": {
        "id": "ZbNHdRGX3_p0"
      },
      "source": [
        "#### 3. 삭제 함수 구현"
      ]
    },
    {
      "cell_type": "code",
      "metadata": {
        "id": "YbjDBZQC4BlZ"
      },
      "source": [
        "def delete(valueToDelete, node):\r\n",
        "\r\n",
        "  # 트리 밑바닥에 도달해서 부모노드에 자식이 없으면 기저 조건\r\n",
        "  if node is None:\r\n",
        "    return None\r\n",
        "\r\n",
        "  # 삭제하려는 값이 현재 노드보다 작거나 크면\r\n",
        "  # 현재 노드의 왼쪽 혹은 오른쪽 하위 트리에 대한 재귀 호출의 반환값을\r\n",
        "  # 왼쪽 혹은 오른쪽 자식에 할당\r\n",
        "  elif valueToDelete < node.value:\r\n",
        "    node.leftChild = delete(valueToDelete, node.leftChild)\r\n",
        "    # 현재 노드(와 존재한다면 그 하위 트리)를 반환해서\r\n",
        "    # 현재 노드의 부모의 왼쪽 혹은 오른쪽 자식의 새로운 값으로 쓰이게 함\r\n",
        "    return node\r\n",
        "\r\n",
        "  elif valueToDelete > node.value:\r\n",
        "    node.rightChild = delete(valueToDelete, node.rightChild)\r\n",
        "    return node\r\n",
        "\r\n",
        "  # 현재 노드가 삭제하려는 노드인 경우\r\n",
        "  elif valueToDelete == node.value:\r\n",
        "\r\n",
        "    # 현재 노드에 왼쪽 자식이 없으면.\r\n",
        "    # 오른쪽 자식(과 존재하다면 그 하위 트리)을 반환함으로써 삭제하고,\r\n",
        "    # 그 부모의 새 하위 트리가 될 수 있도록 함\r\n",
        "    if node.leftChild is None:\r\n",
        "      return node.rightChild\r\n",
        "\r\n",
        "      # (현재 노드에 왼쪽 또는 오른쪽 자식이 없으면 이 함수 코드 첫 줄에 따라 None 으로 끝날 것이다)\r\n",
        "\r\n",
        "    elif node.rightChild is None:\r\n",
        "      return node.leftChild\r\n",
        "\r\n",
        "  # 현재 노드에 자식이 둘이면\r\n",
        "  # 현재 노드의 값을 후속자 노드의 값으로 바꾸는\r\n",
        "  # (아래) lift 함수를 호출함으로써 삭제\r\n",
        "    else:\r\n",
        "      node.rightChild = lift(node.rightChild, node)\r\n",
        "      return node\r\n",
        "  \r\n",
        "def lift(node, nodeToDelete):\r\n",
        "  # 이 함수의 현재 노드의 왼쪽 자식이 있으면,\r\n",
        "  # 왼쪽 하위 트리로 계속해서 내려가도록 함수를 재귀적으로 호출함으로써 후속자 노드를 찾음\r\n",
        "  if node.leftChild:\r\n",
        "    node.leftChild = lift(node.leftChild, nodeToDelete)\r\n",
        "    return node\r\n",
        "\r\n",
        "  # 현재 노드에 왼쪽 자식이 없으면\r\n",
        "  # 이 함수의 현재 노드가 후속자 노드라는 뜻이므로\r\n",
        "  # 현재 노드의 값을 삭제하려는 노드의 새로운 값으로 할당\r\n",
        "\r\n",
        "  else:\r\n",
        "    nodeToDelete.value = node.value\r\n",
        "    # 후속자 노드의 오른쪽 자식이 부모의 왼쪽 자식으로 쓰일 수 있도록 반환\r\n",
        "    return node.rightChild"
      ],
      "execution_count": 14,
      "outputs": []
    },
    {
      "cell_type": "markdown",
      "metadata": {
        "id": "HPpfpfUx5EHP"
      },
      "source": [
        "#### 3-1. 삭제 연산 실행"
      ]
    },
    {
      "cell_type": "code",
      "metadata": {
        "colab": {
          "base_uri": "https://localhost:8080/"
        },
        "id": "gfxNARrF45Kd",
        "outputId": "15808baa-fe19-4f50-ea7d-863a6b063f44"
      },
      "source": [
        "root = TreeNode(50)\r\n",
        "insert(25, root)\r\n",
        "insert(75, root)\r\n",
        "insert(11, root)\r\n",
        "insert(33, root)\r\n",
        "insert(30, root)\r\n",
        "insert(40, root)\r\n",
        "insert(56, root)\r\n",
        "insert(52, root)\r\n",
        "insert(61, root)\r\n",
        "insert(89, root)\r\n",
        "insert(82, root)\r\n",
        "insert(95, root)\r\n",
        "insert(55, root)\r\n",
        "traverse_and_print(root)\r\n",
        "print(\"\\n after deleting root\")\r\n",
        "delete(50, root)\r\n",
        "traverse_and_print(root)"
      ],
      "execution_count": 15,
      "outputs": [
        {
          "output_type": "stream",
          "text": [
            "11 -> 25 -> 30 -> 33 -> 40 -> 50 -> 52 -> 55 -> 56 -> 61 -> 75 -> 82 -> 89 -> 95 -> \n",
            " after deleting root\n",
            "11 -> 25 -> 30 -> 33 -> 40 -> 52 -> 55 -> 56 -> 61 -> 75 -> 82 -> 89 -> 95 -> "
          ],
          "name": "stdout"
        }
      ]
    }
  ]
}